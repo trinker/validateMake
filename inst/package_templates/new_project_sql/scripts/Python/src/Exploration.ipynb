{
 "cells": [
  {
   "cell_type": "code",
   "execution_count": null,
   "id": "helpful-reflection",
   "metadata": {},
   "outputs": [],
   "source": [
    "import pyodbc\n",
    "import pandas as pd\n",
    "from getpass import getuser, getpass"
   ]
  },
  {
   "cell_type": "code",
   "execution_count": null,
   "id": "significant-currency",
   "metadata": {},
   "outputs": [],
   "source": [
    "server = 'datascimi.public.5b1d73772494.database.windows.net ,3342'\n",
    "database = 'publicdata'\n",
    "username = input('Username: ')\n",
    "password = getpass(prompt='Password: ')  \n",
    "auth = 'ActiveDirectoryPassword'\n",
    "driver= '{ODBC Driver 17 for SQL Server}'\n",
    "\n",
    "conn = pyodbc.connect('DRIVER='+driver+';SERVER='+server+';AUTHENTICATION='+auth+';DATABASE='+database+';UID='+username+';PWD='+ password+';ApplicationIntent=ReadOnly')"
   ]
  },
  {
   "cell_type": "code",
   "execution_count": null,
   "id": "mental-belarus",
   "metadata": {},
   "outputs": [],
   "source": [
    "df = pd.read_sql('SELECT TOP (1000) * FROM [publicdata].[dbo].[Ipedsvartable18]', conn)\n",
    "df.head() # display the top 5 records"
   ]
  }
 ],
 "metadata": {
  "kernelspec": {
   "display_name": "Python 3",
   "language": "python",
   "name": "python3"
  },
  "language_info": {
   "codemirror_mode": {
    "name": "ipython",
    "version": 3
   },
   "file_extension": ".py",
   "mimetype": "text/x-python",
   "name": "python",
   "nbconvert_exporter": "python",
   "pygments_lexer": "ipython3",
   "version": "3.8.5"
  }
 },
 "nbformat": 4,
 "nbformat_minor": 5
}
